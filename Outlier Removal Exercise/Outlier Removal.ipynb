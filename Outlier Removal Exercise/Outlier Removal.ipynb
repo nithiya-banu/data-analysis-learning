{
 "cells": [
  {
   "cell_type": "code",
   "execution_count": 94,
   "id": "9ccf4302",
   "metadata": {},
   "outputs": [],
   "source": [
    "import pandas as pd\n",
    "import numpy as np\n",
    "import seaborn as sns\n",
    "from matplotlib import pyplot as plt\n",
    "%matplotlib inline\n",
    "matplotlib.rcParams['figure.figsize'] =(12,8)\n",
    "from scipy.stats import norm\n",
    "import numpy as np"
   ]
  },
  {
   "cell_type": "code",
   "execution_count": 43,
   "id": "a7a91652",
   "metadata": {},
   "outputs": [
    {
     "data": {
      "text/html": [
       "<div>\n",
       "<style scoped>\n",
       "    .dataframe tbody tr th:only-of-type {\n",
       "        vertical-align: middle;\n",
       "    }\n",
       "\n",
       "    .dataframe tbody tr th {\n",
       "        vertical-align: top;\n",
       "    }\n",
       "\n",
       "    .dataframe thead th {\n",
       "        text-align: right;\n",
       "    }\n",
       "</style>\n",
       "<table border=\"1\" class=\"dataframe\">\n",
       "  <thead>\n",
       "    <tr style=\"text-align: right;\">\n",
       "      <th></th>\n",
       "      <th>location</th>\n",
       "      <th>size</th>\n",
       "      <th>total_sqft</th>\n",
       "      <th>bath</th>\n",
       "      <th>price</th>\n",
       "      <th>bhk</th>\n",
       "      <th>price_per_sqft</th>\n",
       "    </tr>\n",
       "  </thead>\n",
       "  <tbody>\n",
       "    <tr>\n",
       "      <th>0</th>\n",
       "      <td>Electronic City Phase II</td>\n",
       "      <td>2 BHK</td>\n",
       "      <td>1056.0</td>\n",
       "      <td>2.0</td>\n",
       "      <td>39.07</td>\n",
       "      <td>2</td>\n",
       "      <td>3699</td>\n",
       "    </tr>\n",
       "    <tr>\n",
       "      <th>1</th>\n",
       "      <td>Chikka Tirupathi</td>\n",
       "      <td>4 Bedroom</td>\n",
       "      <td>2600.0</td>\n",
       "      <td>5.0</td>\n",
       "      <td>120.00</td>\n",
       "      <td>4</td>\n",
       "      <td>4615</td>\n",
       "    </tr>\n",
       "    <tr>\n",
       "      <th>2</th>\n",
       "      <td>Uttarahalli</td>\n",
       "      <td>3 BHK</td>\n",
       "      <td>1440.0</td>\n",
       "      <td>2.0</td>\n",
       "      <td>62.00</td>\n",
       "      <td>3</td>\n",
       "      <td>4305</td>\n",
       "    </tr>\n",
       "    <tr>\n",
       "      <th>3</th>\n",
       "      <td>Lingadheeranahalli</td>\n",
       "      <td>3 BHK</td>\n",
       "      <td>1521.0</td>\n",
       "      <td>3.0</td>\n",
       "      <td>95.00</td>\n",
       "      <td>3</td>\n",
       "      <td>6245</td>\n",
       "    </tr>\n",
       "    <tr>\n",
       "      <th>4</th>\n",
       "      <td>Kothanur</td>\n",
       "      <td>2 BHK</td>\n",
       "      <td>1200.0</td>\n",
       "      <td>2.0</td>\n",
       "      <td>51.00</td>\n",
       "      <td>2</td>\n",
       "      <td>4250</td>\n",
       "    </tr>\n",
       "  </tbody>\n",
       "</table>\n",
       "</div>"
      ],
      "text/plain": [
       "                   location       size  total_sqft  bath   price  bhk  \\\n",
       "0  Electronic City Phase II      2 BHK      1056.0   2.0   39.07    2   \n",
       "1          Chikka Tirupathi  4 Bedroom      2600.0   5.0  120.00    4   \n",
       "2               Uttarahalli      3 BHK      1440.0   2.0   62.00    3   \n",
       "3        Lingadheeranahalli      3 BHK      1521.0   3.0   95.00    3   \n",
       "4                  Kothanur      2 BHK      1200.0   2.0   51.00    2   \n",
       "\n",
       "   price_per_sqft  \n",
       "0            3699  \n",
       "1            4615  \n",
       "2            4305  \n",
       "3            6245  \n",
       "4            4250  "
      ]
     },
     "execution_count": 43,
     "metadata": {},
     "output_type": "execute_result"
    }
   ],
   "source": [
    "df = pd.read_csv(r\"C:\\Users\\nithi\\OneDrive\\Desktop\\Data Analysts\\Week 1\\Outlier Removal Exercise\\bhp.csv\")\n",
    "# df.price.describe()\n",
    "# df.info()\n",
    "# df.shape\n",
    "df.head()"
   ]
  },
  {
   "cell_type": "code",
   "execution_count": 46,
   "id": "719e595a",
   "metadata": {},
   "outputs": [
    {
     "data": {
      "text/plain": [
       "count    1.320000e+04\n",
       "mean     7.920337e+03\n",
       "std      1.067272e+05\n",
       "min      2.670000e+02\n",
       "25%      4.267000e+03\n",
       "50%      5.438000e+03\n",
       "75%      7.317000e+03\n",
       "max      1.200000e+07\n",
       "Name: price_per_sqft, dtype: float64"
      ]
     },
     "execution_count": 46,
     "metadata": {},
     "output_type": "execute_result"
    }
   ],
   "source": [
    "df.price_per_sqft.describe()"
   ]
  },
  {
   "cell_type": "markdown",
   "id": "b15dd031",
   "metadata": {},
   "source": [
    "**Removing outliers using percentile technique**"
   ]
  },
  {
   "cell_type": "code",
   "execution_count": 44,
   "id": "1bbae757",
   "metadata": {},
   "outputs": [
    {
     "data": {
      "text/plain": [
       "np.float64(1366.184)"
      ]
     },
     "execution_count": 44,
     "metadata": {},
     "output_type": "execute_result"
    }
   ],
   "source": [
    "price_low_percentile  = df.price_per_sqft.quantile(0.001)\n",
    "price_low_percentile"
   ]
  },
  {
   "cell_type": "code",
   "execution_count": 47,
   "id": "25f12b91",
   "metadata": {},
   "outputs": [
    {
     "data": {
      "text/plain": [
       "np.float64(50959.36200000098)"
      ]
     },
     "execution_count": 47,
     "metadata": {},
     "output_type": "execute_result"
    }
   ],
   "source": [
    "price_high_percentile = df.price_per_sqft.quantile(0.999)\n",
    "price_high_percentile"
   ]
  },
  {
   "cell_type": "markdown",
   "id": "73cafd49",
   "metadata": {},
   "source": [
    "We can also perform this in single line as shown below:\n",
    "\n",
    "\n",
    "**lower_limit,upper_limit = df.price_per_sqft.quantile([0.001,0.999])**"
   ]
  },
  {
   "cell_type": "code",
   "execution_count": 58,
   "id": "27dcc7f7",
   "metadata": {},
   "outputs": [
    {
     "data": {
      "text/plain": [
       "(13172, 7)"
      ]
     },
     "execution_count": 58,
     "metadata": {},
     "output_type": "execute_result"
    }
   ],
   "source": [
    "df_no_outliers =  df[(df.price_per_sqft > price_low_percentile) & (df.price_per_sqft < price_high_percentile)]\n",
    "# df_no_outliers\n",
    "df_no_outliers.shape"
   ]
  },
  {
   "cell_type": "code",
   "execution_count": 59,
   "id": "f6ab9f4b",
   "metadata": {},
   "outputs": [
    {
     "data": {
      "text/plain": [
       "(13200, 7)"
      ]
     },
     "execution_count": 59,
     "metadata": {},
     "output_type": "execute_result"
    }
   ],
   "source": [
    "df.shape"
   ]
  },
  {
   "cell_type": "code",
   "execution_count": 60,
   "id": "b7bc5968",
   "metadata": {},
   "outputs": [
    {
     "data": {
      "text/plain": [
       "28"
      ]
     },
     "execution_count": 60,
     "metadata": {},
     "output_type": "execute_result"
    }
   ],
   "source": [
    "df.shape[0]-df_no_outliers.shape[0]"
   ]
  },
  {
   "cell_type": "markdown",
   "id": "a4e3c538",
   "metadata": {},
   "source": [
    "Thus 28 outliers of the property details where removed successfully using percentile technique"
   ]
  },
  {
   "cell_type": "markdown",
   "id": "b6cd7fd3",
   "metadata": {},
   "source": [
    "**Removing outliers using 4 Standard Deviation**    "
   ]
  },
  {
   "cell_type": "code",
   "execution_count": null,
   "id": "29b80639",
   "metadata": {},
   "outputs": [
    {
     "data": {
      "text/plain": [
       "np.float64(-9900.429065502582)"
      ]
     },
     "execution_count": 63,
     "metadata": {},
     "output_type": "execute_result"
    }
   ],
   "source": [
    "upper_limit = df_no_outliers.price_per_sqft.mean() + 4 * df_no_outliers.price_per_sqft.std()\n",
    "upper_limit\n",
    "lower_limit = df_no_outliers.price_per_sqft.mean() - 4 * df_no_outliers.price_per_sqft.std()\n",
    "lower_limit"
   ]
  },
  {
   "cell_type": "code",
   "execution_count": 64,
   "id": "ae8597b5",
   "metadata": {},
   "outputs": [
    {
     "data": {
      "text/plain": [
       "(np.float64(23227.73653589432), np.float64(-9900.429065502582))"
      ]
     },
     "execution_count": 64,
     "metadata": {},
     "output_type": "execute_result"
    }
   ],
   "source": [
    "upper_limit,lower_limit"
   ]
  },
  {
   "cell_type": "code",
   "execution_count": 110,
   "id": "9567f051",
   "metadata": {},
   "outputs": [
    {
     "data": {
      "text/html": [
       "<div>\n",
       "<style scoped>\n",
       "    .dataframe tbody tr th:only-of-type {\n",
       "        vertical-align: middle;\n",
       "    }\n",
       "\n",
       "    .dataframe tbody tr th {\n",
       "        vertical-align: top;\n",
       "    }\n",
       "\n",
       "    .dataframe thead th {\n",
       "        text-align: right;\n",
       "    }\n",
       "</style>\n",
       "<table border=\"1\" class=\"dataframe\">\n",
       "  <thead>\n",
       "    <tr style=\"text-align: right;\">\n",
       "      <th></th>\n",
       "      <th>location</th>\n",
       "      <th>size</th>\n",
       "      <th>total_sqft</th>\n",
       "      <th>bath</th>\n",
       "      <th>price</th>\n",
       "      <th>bhk</th>\n",
       "      <th>price_per_sqft</th>\n",
       "      <th>zscore</th>\n",
       "    </tr>\n",
       "  </thead>\n",
       "  <tbody>\n",
       "    <tr>\n",
       "      <th>9767</th>\n",
       "      <td>Koramangala</td>\n",
       "      <td>3 BHK</td>\n",
       "      <td>1745.0</td>\n",
       "      <td>3.0</td>\n",
       "      <td>98.00</td>\n",
       "      <td>3</td>\n",
       "      <td>5616</td>\n",
       "      <td>-0.252994</td>\n",
       "    </tr>\n",
       "    <tr>\n",
       "      <th>9822</th>\n",
       "      <td>Uttarahalli</td>\n",
       "      <td>3 BHK</td>\n",
       "      <td>1270.0</td>\n",
       "      <td>2.0</td>\n",
       "      <td>55.25</td>\n",
       "      <td>3</td>\n",
       "      <td>4350</td>\n",
       "      <td>-0.558716</td>\n",
       "    </tr>\n",
       "    <tr>\n",
       "      <th>427</th>\n",
       "      <td>Yelenahalli</td>\n",
       "      <td>2 BHK</td>\n",
       "      <td>1240.0</td>\n",
       "      <td>2.0</td>\n",
       "      <td>47.12</td>\n",
       "      <td>2</td>\n",
       "      <td>3800</td>\n",
       "      <td>-0.691533</td>\n",
       "    </tr>\n",
       "    <tr>\n",
       "      <th>8005</th>\n",
       "      <td>Hebbal</td>\n",
       "      <td>2 BHK</td>\n",
       "      <td>1345.0</td>\n",
       "      <td>2.0</td>\n",
       "      <td>97.00</td>\n",
       "      <td>2</td>\n",
       "      <td>7211</td>\n",
       "      <td>0.132177</td>\n",
       "    </tr>\n",
       "    <tr>\n",
       "      <th>6628</th>\n",
       "      <td>NGR Layout</td>\n",
       "      <td>1 BHK</td>\n",
       "      <td>907.0</td>\n",
       "      <td>1.0</td>\n",
       "      <td>38.00</td>\n",
       "      <td>1</td>\n",
       "      <td>4189</td>\n",
       "      <td>-0.597595</td>\n",
       "    </tr>\n",
       "    <tr>\n",
       "      <th>3857</th>\n",
       "      <td>HBR Layout</td>\n",
       "      <td>2 BHK</td>\n",
       "      <td>1200.0</td>\n",
       "      <td>2.0</td>\n",
       "      <td>60.00</td>\n",
       "      <td>2</td>\n",
       "      <td>5000</td>\n",
       "      <td>-0.401750</td>\n",
       "    </tr>\n",
       "    <tr>\n",
       "      <th>4421</th>\n",
       "      <td>Kaval Byrasandra</td>\n",
       "      <td>2 BHK</td>\n",
       "      <td>1185.0</td>\n",
       "      <td>2.0</td>\n",
       "      <td>49.00</td>\n",
       "      <td>2</td>\n",
       "      <td>4135</td>\n",
       "      <td>-0.610635</td>\n",
       "    </tr>\n",
       "    <tr>\n",
       "      <th>2851</th>\n",
       "      <td>Tindlu</td>\n",
       "      <td>7 Bedroom</td>\n",
       "      <td>7500.0</td>\n",
       "      <td>7.0</td>\n",
       "      <td>400.00</td>\n",
       "      <td>7</td>\n",
       "      <td>5333</td>\n",
       "      <td>-0.321335</td>\n",
       "    </tr>\n",
       "    <tr>\n",
       "      <th>8493</th>\n",
       "      <td>Kanakpura Road</td>\n",
       "      <td>3 BHK</td>\n",
       "      <td>1700.0</td>\n",
       "      <td>3.0</td>\n",
       "      <td>120.00</td>\n",
       "      <td>3</td>\n",
       "      <td>7058</td>\n",
       "      <td>0.095229</td>\n",
       "    </tr>\n",
       "    <tr>\n",
       "      <th>817</th>\n",
       "      <td>Kanakpura Road</td>\n",
       "      <td>1 BHK</td>\n",
       "      <td>525.0</td>\n",
       "      <td>1.0</td>\n",
       "      <td>30.00</td>\n",
       "      <td>1</td>\n",
       "      <td>5714</td>\n",
       "      <td>-0.229328</td>\n",
       "    </tr>\n",
       "  </tbody>\n",
       "</table>\n",
       "</div>"
      ],
      "text/plain": [
       "              location       size  total_sqft  bath   price  bhk  \\\n",
       "9767       Koramangala      3 BHK      1745.0   3.0   98.00    3   \n",
       "9822       Uttarahalli      3 BHK      1270.0   2.0   55.25    3   \n",
       "427        Yelenahalli      2 BHK      1240.0   2.0   47.12    2   \n",
       "8005            Hebbal      2 BHK      1345.0   2.0   97.00    2   \n",
       "6628        NGR Layout      1 BHK       907.0   1.0   38.00    1   \n",
       "3857        HBR Layout      2 BHK      1200.0   2.0   60.00    2   \n",
       "4421  Kaval Byrasandra      2 BHK      1185.0   2.0   49.00    2   \n",
       "2851            Tindlu  7 Bedroom      7500.0   7.0  400.00    7   \n",
       "8493    Kanakpura Road      3 BHK      1700.0   3.0  120.00    3   \n",
       "817     Kanakpura Road      1 BHK       525.0   1.0   30.00    1   \n",
       "\n",
       "      price_per_sqft    zscore  \n",
       "9767            5616 -0.252994  \n",
       "9822            4350 -0.558716  \n",
       "427             3800 -0.691533  \n",
       "8005            7211  0.132177  \n",
       "6628            4189 -0.597595  \n",
       "3857            5000 -0.401750  \n",
       "4421            4135 -0.610635  \n",
       "2851            5333 -0.321335  \n",
       "8493            7058  0.095229  \n",
       "817             5714 -0.229328  "
      ]
     },
     "execution_count": 110,
     "metadata": {},
     "output_type": "execute_result"
    }
   ],
   "source": [
    "new_dataframe = df_no_outliers [( df_no_outliers.price_per_sqft < upper_limit ) & (df_no_outliers.price_per_sqft > lower_limit)]\n",
    "new_dataframe.sample(10)"
   ]
  },
  {
   "cell_type": "code",
   "execution_count": 111,
   "id": "161f1f3b",
   "metadata": {},
   "outputs": [
    {
     "data": {
      "text/plain": [
       "((13047, 8), (13172, 8))"
      ]
     },
     "execution_count": 111,
     "metadata": {},
     "output_type": "execute_result"
    }
   ],
   "source": [
    "new_dataframe.shape,df_no_outliers.shape"
   ]
  },
  {
   "cell_type": "code",
   "execution_count": 112,
   "id": "9d8983fc",
   "metadata": {},
   "outputs": [
    {
     "data": {
      "text/plain": [
       "125"
      ]
     },
     "execution_count": 112,
     "metadata": {},
     "output_type": "execute_result"
    }
   ],
   "source": [
    "df_no_outliers.shape[0] - new_dataframe.shape[0]"
   ]
  },
  {
   "cell_type": "markdown",
   "id": "ba745fd1",
   "metadata": {},
   "source": [
    "Now, we have removed total of 125 outliers successfully!!! using standard deviation technique"
   ]
  },
  {
   "cell_type": "markdown",
   "id": "ae2b549b",
   "metadata": {},
   "source": [
    "I have visualised histogram using seaborn library"
   ]
  },
  {
   "cell_type": "code",
   "execution_count": 83,
   "id": "da86de02",
   "metadata": {},
   "outputs": [
    {
     "data": {
      "text/plain": [
       "<Axes: xlabel='price_per_sqft', ylabel='Count'>"
      ]
     },
     "execution_count": 83,
     "metadata": {},
     "output_type": "execute_result"
    },
    {
     "data": {
      "image/png": "[encoded data removed]",
      "text/plain": [
       "<Figure size 1200x800 with 1 Axes>"
      ]
     },
     "metadata": {},
     "output_type": "display_data"
    }
   ],
   "source": [
    "sn.histplot(new_dataframe.price_per_sqft, bins = 20,kde=True)"
   ]
  },
  {
   "cell_type": "code",
   "execution_count": 93,
   "id": "cee1cd78",
   "metadata": {},
   "outputs": [
    {
     "data": {
      "text/plain": [
       "Text(0, 0.5, 'Count')"
      ]
     },
     "execution_count": 93,
     "metadata": {},
     "output_type": "execute_result"
    },
    {
     "data": {
      "image/png": "[encoded data removed]",
      "text/plain": [
       "<Figure size 1200x800 with 1 Axes>"
      ]
     },
     "metadata": {},
     "output_type": "display_data"
    }
   ],
   "source": [
    "plt.hist(new_dataframe.price_per_sqft, bins = 8, rwidth = 0.9)\n",
    "plt.xlabel(\"Price Per Square Foot\")\n",
    "plt.ylabel(\"Count\")"
   ]
  },
  {
   "cell_type": "code",
   "execution_count": 104,
   "id": "c3da91d3",
   "metadata": {},
   "outputs": [
    {
     "data": {
      "text/plain": [
       "[<matplotlib.lines.Line2D at 0x2406b350b30>]"
      ]
     },
     "execution_count": 104,
     "metadata": {},
     "output_type": "execute_result"
    },
    {
     "data": {
      "image/png": "[encoded data removed]",
      "text/plain": [
       "<Figure size 1200x800 with 1 Axes>"
      ]
     },
     "metadata": {},
     "output_type": "display_data"
    }
   ],
   "source": [
    "plt.hist(new_dataframe.price_per_sqft, bins = 20, rwidth = 0.8, density = True)\n",
    "plt.xlabel(\"Price Per Square Foot\")\n",
    "plt.ylabel(\"Density\")\n",
    "x_values = np.linspace(new_dataframe.price_per_sqft.mean()-3*new_dataframe.price_per_sqft.std(), new_dataframe.price_per_sqft.mean()+3*new_dataframe.price_per_sqft.std(), 100)\n",
    "y_values = norm.pdf(x_values,new_dataframe.price_per_sqft.mean(),new_dataframe.price_per_sqft.std())\n",
    "plt.plot(x_values,y_values)"
   ]
  },
  {
   "cell_type": "code",
   "execution_count": 113,
   "id": "69128c9b",
   "metadata": {},
   "outputs": [
    {
     "name": "stderr",
     "output_type": "stream",
     "text": [
      "C:\\Users\\nithi\\AppData\\Local\\Temp\\ipykernel_42708\\1202338553.py:1: SettingWithCopyWarning: \n",
      "A value is trying to be set on a copy of a slice from a DataFrame.\n",
      "Try using .loc[row_indexer,col_indexer] = value instead\n",
      "\n",
      "See the caveats in the documentation: https://pandas.pydata.org/pandas-docs/stable/user_guide/indexing.html#returning-a-view-versus-a-copy\n",
      "  df_no_outliers['zscore'] = (df_no_outliers.price_per_sqft - df_no_outliers.price_per_sqft.mean()) / df_no_outliers.price_per_sqft.std()\n"
     ]
    },
    {
     "data": {
      "text/html": [
       "<div>\n",
       "<style scoped>\n",
       "    .dataframe tbody tr th:only-of-type {\n",
       "        vertical-align: middle;\n",
       "    }\n",
       "\n",
       "    .dataframe tbody tr th {\n",
       "        vertical-align: top;\n",
       "    }\n",
       "\n",
       "    .dataframe thead th {\n",
       "        text-align: right;\n",
       "    }\n",
       "</style>\n",
       "<table border=\"1\" class=\"dataframe\">\n",
       "  <thead>\n",
       "    <tr style=\"text-align: right;\">\n",
       "      <th></th>\n",
       "      <th>location</th>\n",
       "      <th>size</th>\n",
       "      <th>total_sqft</th>\n",
       "      <th>bath</th>\n",
       "      <th>price</th>\n",
       "      <th>bhk</th>\n",
       "      <th>price_per_sqft</th>\n",
       "      <th>zscore</th>\n",
       "    </tr>\n",
       "  </thead>\n",
       "  <tbody>\n",
       "    <tr>\n",
       "      <th>4116</th>\n",
       "      <td>other</td>\n",
       "      <td>3 BHK</td>\n",
       "      <td>1155.0</td>\n",
       "      <td>2.0</td>\n",
       "      <td>60.00</td>\n",
       "      <td>3</td>\n",
       "      <td>5194</td>\n",
       "      <td>-0.354901</td>\n",
       "    </tr>\n",
       "    <tr>\n",
       "      <th>8420</th>\n",
       "      <td>other</td>\n",
       "      <td>3 BHK</td>\n",
       "      <td>1365.0</td>\n",
       "      <td>3.0</td>\n",
       "      <td>54.00</td>\n",
       "      <td>3</td>\n",
       "      <td>3956</td>\n",
       "      <td>-0.653861</td>\n",
       "    </tr>\n",
       "    <tr>\n",
       "      <th>11790</th>\n",
       "      <td>Domlur</td>\n",
       "      <td>3 BHK</td>\n",
       "      <td>1850.0</td>\n",
       "      <td>3.0</td>\n",
       "      <td>180.00</td>\n",
       "      <td>3</td>\n",
       "      <td>9729</td>\n",
       "      <td>0.740239</td>\n",
       "    </tr>\n",
       "    <tr>\n",
       "      <th>8945</th>\n",
       "      <td>Marsur</td>\n",
       "      <td>3 BHK</td>\n",
       "      <td>720.0</td>\n",
       "      <td>2.0</td>\n",
       "      <td>32.00</td>\n",
       "      <td>3</td>\n",
       "      <td>4444</td>\n",
       "      <td>-0.536016</td>\n",
       "    </tr>\n",
       "    <tr>\n",
       "      <th>11327</th>\n",
       "      <td>Whitefield</td>\n",
       "      <td>2 BHK</td>\n",
       "      <td>1190.0</td>\n",
       "      <td>2.0</td>\n",
       "      <td>70.00</td>\n",
       "      <td>2</td>\n",
       "      <td>5882</td>\n",
       "      <td>-0.188759</td>\n",
       "    </tr>\n",
       "    <tr>\n",
       "      <th>12740</th>\n",
       "      <td>Vidyaranyapura</td>\n",
       "      <td>2 BHK</td>\n",
       "      <td>1200.0</td>\n",
       "      <td>2.0</td>\n",
       "      <td>42.00</td>\n",
       "      <td>2</td>\n",
       "      <td>3500</td>\n",
       "      <td>-0.763979</td>\n",
       "    </tr>\n",
       "    <tr>\n",
       "      <th>1746</th>\n",
       "      <td>Banashankari Stage II</td>\n",
       "      <td>4 Bedroom</td>\n",
       "      <td>1200.0</td>\n",
       "      <td>2.0</td>\n",
       "      <td>150.00</td>\n",
       "      <td>4</td>\n",
       "      <td>12500</td>\n",
       "      <td>1.409398</td>\n",
       "    </tr>\n",
       "    <tr>\n",
       "      <th>11783</th>\n",
       "      <td>Hebbal</td>\n",
       "      <td>2 BHK</td>\n",
       "      <td>1420.0</td>\n",
       "      <td>2.0</td>\n",
       "      <td>99.26</td>\n",
       "      <td>2</td>\n",
       "      <td>6990</td>\n",
       "      <td>0.078808</td>\n",
       "    </tr>\n",
       "    <tr>\n",
       "      <th>8915</th>\n",
       "      <td>Kengeri</td>\n",
       "      <td>2 BHK</td>\n",
       "      <td>1052.0</td>\n",
       "      <td>2.0</td>\n",
       "      <td>51.00</td>\n",
       "      <td>2</td>\n",
       "      <td>4847</td>\n",
       "      <td>-0.438697</td>\n",
       "    </tr>\n",
       "    <tr>\n",
       "      <th>6599</th>\n",
       "      <td>Hoodi</td>\n",
       "      <td>3 BHK</td>\n",
       "      <td>1490.0</td>\n",
       "      <td>3.0</td>\n",
       "      <td>79.00</td>\n",
       "      <td>3</td>\n",
       "      <td>5302</td>\n",
       "      <td>-0.328821</td>\n",
       "    </tr>\n",
       "  </tbody>\n",
       "</table>\n",
       "</div>"
      ],
      "text/plain": [
       "                    location       size  total_sqft  bath   price  bhk  \\\n",
       "4116                   other      3 BHK      1155.0   2.0   60.00    3   \n",
       "8420                   other      3 BHK      1365.0   3.0   54.00    3   \n",
       "11790                 Domlur      3 BHK      1850.0   3.0  180.00    3   \n",
       "8945                  Marsur      3 BHK       720.0   2.0   32.00    3   \n",
       "11327             Whitefield      2 BHK      1190.0   2.0   70.00    2   \n",
       "12740         Vidyaranyapura      2 BHK      1200.0   2.0   42.00    2   \n",
       "1746   Banashankari Stage II  4 Bedroom      1200.0   2.0  150.00    4   \n",
       "11783                 Hebbal      2 BHK      1420.0   2.0   99.26    2   \n",
       "8915                 Kengeri      2 BHK      1052.0   2.0   51.00    2   \n",
       "6599                   Hoodi      3 BHK      1490.0   3.0   79.00    3   \n",
       "\n",
       "       price_per_sqft    zscore  \n",
       "4116             5194 -0.354901  \n",
       "8420             3956 -0.653861  \n",
       "11790            9729  0.740239  \n",
       "8945             4444 -0.536016  \n",
       "11327            5882 -0.188759  \n",
       "12740            3500 -0.763979  \n",
       "1746            12500  1.409398  \n",
       "11783            6990  0.078808  \n",
       "8915             4847 -0.438697  \n",
       "6599             5302 -0.328821  "
      ]
     },
     "execution_count": 113,
     "metadata": {},
     "output_type": "execute_result"
    }
   ],
   "source": [
    "df_no_outliers['zscore'] = (df_no_outliers.price_per_sqft - df_no_outliers.price_per_sqft.mean()) / df_no_outliers.price_per_sqft.std()\n",
    "df_no_outliers.sample(10)"
   ]
  },
  {
   "cell_type": "code",
   "execution_count": 120,
   "id": "71e1f9ea",
   "metadata": {},
   "outputs": [
    {
     "data": {
      "text/plain": [
       "(125, 8)"
      ]
     },
     "execution_count": 120,
     "metadata": {},
     "output_type": "execute_result"
    }
   ],
   "source": [
    "zscore_outlier = df_no_outliers[(df_no_outliers.zscore < -4) | (df_no_outliers.zscore > 4) ]\n",
    "zscore_outlier.shape"
   ]
  },
  {
   "cell_type": "code",
   "execution_count": 122,
   "id": "587ac129",
   "metadata": {},
   "outputs": [],
   "source": [
    "final_no_outlier = df_no_outliers.drop(zscore_outlier.index)"
   ]
  },
  {
   "cell_type": "code",
   "execution_count": 126,
   "id": "092d49de",
   "metadata": {},
   "outputs": [
    {
     "data": {
      "text/plain": [
       "(13047, 8)"
      ]
     },
     "execution_count": 126,
     "metadata": {},
     "output_type": "execute_result"
    }
   ],
   "source": [
    "final_no_outlier.shape"
   ]
  },
  {
   "cell_type": "code",
   "execution_count": null,
   "id": "9a0d6cb5",
   "metadata": {},
   "outputs": [],
   "source": []
  }
 ],
 "metadata": {
  "kernelspec": {
   "display_name": "Python 3",
   "language": "python",
   "name": "python3"
  },
  "language_info": {
   "codemirror_mode": {
    "name": "ipython",
    "version": 3
   },
   "file_extension": ".py",
   "mimetype": "text/x-python",
   "name": "python",
   "nbconvert_exporter": "python",
   "pygments_lexer": "ipython3",
   "version": "3.12.10"
  }
 },
 "nbformat": 4,
 "nbformat_minor": 5
}
